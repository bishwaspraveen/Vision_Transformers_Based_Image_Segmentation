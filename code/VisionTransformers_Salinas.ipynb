{
  "nbformat": 4,
  "nbformat_minor": 0,
  "metadata": {
    "colab": {
      "provenance": []
    },
    "kernelspec": {
      "name": "python3",
      "display_name": "Python 3"
    },
    "language_info": {
      "name": "python"
    },
    "accelerator": "GPU"
  },
  "cells": [
    {
      "cell_type": "code",
      "execution_count": null,
      "metadata": {
        "colab": {
          "base_uri": "https://localhost:8080/"
        },
        "id": "h4g75g25XA8S",
        "outputId": "0fe0fd0f-edb0-430f-80f9-17c72b44c7ff"
      },
      "outputs": [
        {
          "output_type": "stream",
          "name": "stdout",
          "text": [
            "Requirement already satisfied: spectral in /usr/local/lib/python3.7/dist-packages (0.22.4)\n",
            "Requirement already satisfied: numpy in /usr/local/lib/python3.7/dist-packages (from spectral) (1.21.5)\n",
            "Requirement already satisfied: tensorflow-addons in /usr/local/lib/python3.7/dist-packages (0.16.1)\n",
            "Requirement already satisfied: typeguard>=2.7 in /usr/local/lib/python3.7/dist-packages (from tensorflow-addons) (2.7.1)\n"
          ]
        }
      ],
      "source": [
        "!pip install spectral\n",
        "!pip install tensorflow-addons"
      ]
    },
    {
      "cell_type": "code",
      "source": [
        "import tensorflow as tf\n",
        "from tensorflow.keras.utils import plot_model\n",
        "from tensorflow.keras.regularizers import L2, L1\n",
        "from tensorflow import one_hot as to_categorical\n",
        "import tensorflow_addons as tfa\n",
        "\n",
        "import numpy as np\n",
        "\n",
        "from sklearn.decomposition import PCA\n",
        "from sklearn.model_selection import train_test_split\n",
        "from sklearn.metrics import classification_report, confusion_matrix, cohen_kappa_score, accuracy_score\n",
        "from sklearn import preprocessing\n",
        "\n",
        "import random\n",
        "from random import shuffle\n",
        "\n",
        "import os\n",
        "\n",
        "import pandas as pd\n",
        "\n",
        "import matplotlib.pyplot as plt\n",
        "%matplotlib inline\n",
        "from matplotlib import cm\n",
        "\n",
        "from IPython.core.pylabtools import figsize\n",
        "\n",
        "import scipy\n",
        "\n",
        "import spectral\n",
        "\n",
        "import scipy.io as sio\n",
        "\n",
        "import time\n",
        "\n",
        "import math\n",
        "\n",
        "import collections"
      ],
      "metadata": {
        "id": "FMJlMAR-XO0y"
      },
      "execution_count": null,
      "outputs": []
    },
    {
      "cell_type": "code",
      "source": [
        "!nvidia-smi "
      ],
      "metadata": {
        "colab": {
          "base_uri": "https://localhost:8080/"
        },
        "id": "fUXJ7yJYXSSC",
        "outputId": "843e1173-aa1c-484e-a0ea-0d77a3e267bf"
      },
      "execution_count": null,
      "outputs": [
        {
          "output_type": "stream",
          "name": "stdout",
          "text": [
            "Fri Apr 22 06:25:13 2022       \n",
            "+-----------------------------------------------------------------------------+\n",
            "| NVIDIA-SMI 460.32.03    Driver Version: 460.32.03    CUDA Version: 11.2     |\n",
            "|-------------------------------+----------------------+----------------------+\n",
            "| GPU  Name        Persistence-M| Bus-Id        Disp.A | Volatile Uncorr. ECC |\n",
            "| Fan  Temp  Perf  Pwr:Usage/Cap|         Memory-Usage | GPU-Util  Compute M. |\n",
            "|                               |                      |               MIG M. |\n",
            "|===============================+======================+======================|\n",
            "|   0  Tesla K80           Off  | 00000000:00:04.0 Off |                    0 |\n",
            "| N/A   48C    P8    30W / 149W |      0MiB / 11441MiB |      0%      Default |\n",
            "|                               |                      |                  N/A |\n",
            "+-------------------------------+----------------------+----------------------+\n",
            "                                                                               \n",
            "+-----------------------------------------------------------------------------+\n",
            "| Processes:                                                                  |\n",
            "|  GPU   GI   CI        PID   Type   Process name                  GPU Memory |\n",
            "|        ID   ID                                                   Usage      |\n",
            "|=============================================================================|\n",
            "|  No running processes found                                                 |\n",
            "+-----------------------------------------------------------------------------+\n"
          ]
        }
      ]
    },
    {
      "cell_type": "code",
      "source": [
        "windowSize = 9\n",
        "testRatio = 0.9\n",
        "valRatio = 0.1"
      ],
      "metadata": {
        "id": "Xb_8NINCXWjI"
      },
      "execution_count": null,
      "outputs": []
    },
    {
      "cell_type": "code",
      "source": [
        "def loadSalinasData():\n",
        "    data = sio.loadmat(r'Salinas_corrected.mat')['salinas_corrected']\n",
        "    labels = sio.loadmat(r'Salinas_gt.mat')['salinas_gt']\n",
        "    return data, labels"
      ],
      "metadata": {
        "id": "wucJzribXZ43"
      },
      "execution_count": null,
      "outputs": []
    },
    {
      "cell_type": "code",
      "source": [
        "X, y = loadSalinasData()\n",
        "print (\"Shape of X : \"+str(X.shape))\n",
        "print (\"Shape of y : \"+str(y.shape))"
      ],
      "metadata": {
        "colab": {
          "base_uri": "https://localhost:8080/"
        },
        "id": "D42i_76TYZC4",
        "outputId": "c9e0d95e-5b1d-4f98-f9aa-ffe99e3d200d"
      },
      "execution_count": null,
      "outputs": [
        {
          "output_type": "stream",
          "name": "stdout",
          "text": [
            "Shape of X : (512, 217, 204)\n",
            "Shape of y : (512, 217)\n"
          ]
        }
      ]
    },
    {
      "cell_type": "code",
      "source": [
        "#For plotting accuracy plots\n",
        "y_accuracy_plot = y"
      ],
      "metadata": {
        "id": "EIqKBPycYfgi"
      },
      "execution_count": null,
      "outputs": []
    },
    {
      "cell_type": "code",
      "source": [
        "#Function to plot HSI data and the groundtruths together\n",
        "def plot_data_and_gt(X, y):\n",
        "  \n",
        "  labels = ['Background', 'Brocoli_green_weeds_1', 'Brocoli_green_weeds_2', 'Fallow', 'Fallow_rough_plow', 'Fallow_smooth', 'Stubble', 'Celery', 'Grapes_untrained', 'Soil_vineyard_develop', 'Corn_senesced_green_weeds', 'Lettuce_romaine_4wk', 'Lettuce_romaine_5wk', 'Lettuce_romaine_6wk', 'Lettuce_romaine_7wk', 'Vineyard_untrained', 'Vineyard_vertical_trellis']\n",
        "  i=0\n",
        "  #Value of cmap can also be changed to gist_ncar. Try it out. However, if all the classes have to been clearly, nipy_spectral_r seems better.\n",
        "  cmap = cm.nipy_spectral_r\n",
        "  unique_data = np.unique(y)\n",
        "  unique_data = unique_data/np.max(unique_data)\n",
        "  #Specifying cmap color for all the groundtruth values\n",
        "  for entry in unique_data:\n",
        "    mycolor = cmap(entry)\n",
        "    plt.plot(0, 0, \"-\", color=mycolor, label=labels[i], linewidth=5)\n",
        "    i += 1\n",
        "  \n",
        "  plt.imshow(y, cmap=cmap)\n",
        "  plt.legend(loc=\"upper right\", bbox_to_anchor=(3.5, 1.0))\n",
        "  plt.axis('off')\n",
        "  plt.show()\n",
        "  \n",
        "  #Plotting spectral input data\n",
        "  spectralimage_data = spectral.imshow(X, figsize =(4,4))\n",
        "  \n",
        "  #This is another way to plot the groundtruth image but isn't required currently.\n",
        "  #spectralimage_gt = spectral.imshow(classes = y.astype(int), figsize=(4,4))"
      ],
      "metadata": {
        "id": "IrAkeKN2Yp9g"
      },
      "execution_count": null,
      "outputs": []
    },
    {
      "cell_type": "code",
      "source": [
        "plot_data_and_gt(X, y)"
      ],
      "metadata": {
        "colab": {
          "base_uri": "https://localhost:8080/",
          "height": 558
        },
        "id": "s1pUksoOd8HJ",
        "outputId": "d6020bb7-d875-48a7-c112-3a26b5a7eb51"
      },
      "execution_count": null,
      "outputs": [
        {
          "output_type": "display_data",
          "data": {
            "text/plain": [
              "<Figure size 432x288 with 1 Axes>"
            ],
            "image/png": "[encoded data removed]"
          },
          "metadata": {
            "needs_background": "light"
          }
        },
        {
          "output_type": "display_data",
          "data": {
            "text/plain": [
              "<Figure size 288x288 with 1 Axes>"
            ],
            "image/png": "[encoded data removed]"
          },
          "metadata": {
            "needs_background": "light"
          }
        }
      ]
    },
    {
      "cell_type": "code",
      "source": [
        "def standartizeData(X):\n",
        "  #Standardize data to have 0 mean and 1 variance\n",
        "  newX = np.reshape(X, (-1, X.shape[2]))\n",
        "  scaler = preprocessing.StandardScaler()  \n",
        "  newX = scaler.fit_transform(newX)\n",
        "  newX = np.reshape(newX, (X.shape[0],X.shape[1],X.shape[2]))\n",
        "  return newX, scaler"
      ],
      "metadata": {
        "id": "2gFouSqxd_jR"
      },
      "execution_count": null,
      "outputs": []
    },
    {
      "cell_type": "code",
      "source": [
        "X, scaler = standartizeData(X)\n",
        "print (\"Shape of X : \"+str(X.shape))"
      ],
      "metadata": {
        "colab": {
          "base_uri": "https://localhost:8080/"
        },
        "id": "_YY-D3trefZ_",
        "outputId": "e72779a9-ad21-4d27-e09d-828917b970b9"
      },
      "execution_count": null,
      "outputs": [
        {
          "output_type": "stream",
          "name": "stdout",
          "text": [
            "Shape of X : (512, 217, 204)\n"
          ]
        }
      ]
    },
    {
      "cell_type": "code",
      "source": [
        "def applyPCA(X, numComponents):\n",
        "    newX = np.reshape(X, (-1, X.shape[2]))\n",
        "    pca = PCA(n_components=numComponents, whiten=True)\n",
        "    newX = pca.fit_transform(newX)\n",
        "    print (f\"The explained variance ratio for {numComponents} components is \"+str(pca.explained_variance_ratio_))\n",
        "    print (f\"The total amount of data restored in {numComponents} components of PCA is \"+str(np.sum(pca.explained_variance_ratio_)*100)+\"%\")\n",
        "    newX = np.reshape(newX, (X.shape[0],X.shape[1], numComponents))\n",
        "    return newX, pca"
      ],
      "metadata": {
        "id": "TMSaqX9Uehi4"
      },
      "execution_count": null,
      "outputs": []
    },
    {
      "cell_type": "code",
      "source": [
        "X, pca = applyPCA(X, numComponents=10)\n",
        "print (\"Shape of X after PCA : \"+str(X.shape))"
      ],
      "metadata": {
        "colab": {
          "base_uri": "https://localhost:8080/"
        },
        "id": "pDgs1BgHemHF",
        "outputId": "4c062ff9-07b7-4159-c8b4-6c3d295b40f5"
      },
      "execution_count": null,
      "outputs": [
        {
          "output_type": "stream",
          "name": "stdout",
          "text": [
            "The explained variance ratio for 10 components is [0.66299056 0.275551   0.02247438 0.0153391  0.00839933 0.00460708\n",
            " 0.00235803 0.00196938 0.00159594 0.00096683]\n",
            "The total amount of data restored in 10 components of PCA is 99.62516340768997%\n",
            "Shape of X after PCA : (512, 217, 10)\n"
          ]
        }
      ]
    },
    {
      "cell_type": "code",
      "source": [
        "#Plotting the accuracy plots\n",
        "X_accuracy_plot = X"
      ],
      "metadata": {
        "id": "wwAGxEznXmcv"
      },
      "execution_count": null,
      "outputs": []
    },
    {
      "cell_type": "code",
      "source": [
        "#Function to pad the input data with zeros\n",
        "def padXWithZeros(X, margin=2):\n",
        "  newX = np.zeros((X.shape[0] + 2 * margin, X.shape[1] + 2* margin, X.shape[2]))\n",
        "  x_offset = margin\n",
        "  y_offset = margin\n",
        "  newX[x_offset:X.shape[0] + x_offset, y_offset:X.shape[1] + y_offset, :] = X\n",
        "  return newX\n",
        "\n",
        "def padYWithZeros(Y, margin=2):\n",
        "  newY = np.full((Y.shape[0] + 2 * margin, Y.shape[1] + 2* margin),-1)\n",
        "  #newY = np.zeros((Y.shape[0] + 2 * margin, Y.shape[1] + 2* margin))\n",
        "  x_offset = margin\n",
        "  y_offset = margin\n",
        "  newY[x_offset:Y.shape[0] + x_offset, y_offset:Y.shape[1] + y_offset] = Y\n",
        "  return newY\n",
        "\n",
        "#Function to create patches after the input data has been padded with zeros on the edges\n",
        "def createPatches(X, y, windowSize=windowSize, removeZeroLabels = True):\n",
        "  #print (\"Shape of X : \"+str(X.shape))\n",
        "  #print (\"Shape of y : \"+str(y.shape))\n",
        "  margin = int((windowSize - 1) / 2)\n",
        "  zeroPaddedX = padXWithZeros(X, margin=margin)\n",
        "  zeroPaddedY = padYWithZeros(y, margin=margin)\n",
        "  # split patches\n",
        "  patchesData = np.zeros((X.shape[0] * X.shape[1], windowSize, windowSize, X.shape[2]))\n",
        "  #print (f\"patches data all zeros : {str(patchesData.shape)}\")\n",
        "  patchesY = np.zeros((X.shape[0] * X.shape[1], windowSize, windowSize))\n",
        "  #print (f\"patches Y all zeros : {str(patchesY.shape)}\")\n",
        "  patchesLabels = np.zeros((X.shape[0] * X.shape[1]))\n",
        "  #print (f\"patches labels all zeros: {str(patchesLabels.shape)}\")\n",
        "  patchIndex = 0\n",
        "  # Done until here\n",
        "  for r in range(margin, zeroPaddedX.shape[0] - margin):\n",
        "      for c in range(margin, zeroPaddedX.shape[1] - margin):\n",
        "          patchX = zeroPaddedX[r - margin:r + margin + 1, c - margin:c + margin + 1]   \n",
        "          #print (f\"patchX shape : {str(patchX.shape)}\")\n",
        "          patchesData[patchIndex, :, :, :] = patchX\n",
        "          patchY = zeroPaddedY[r - margin:r + margin + 1, c - margin:c + margin + 1]\n",
        "          #print (f\"patchY shape : {str(patchY.shape)}\")\n",
        "          patchesY[patchIndex,:,:] = patchY\n",
        "          patchesLabels[patchIndex] = y[r-margin, c-margin]\n",
        "          patchIndex = patchIndex + 1\n",
        "  if removeZeroLabels:\n",
        "      patchesData = patchesData[patchesLabels>0,:,:,:]\n",
        "      patchesY = patchesY[patchesLabels>0,:,:]\n",
        "      patchesLabels = patchesLabels[patchesLabels>0]\n",
        "      patchesLabels -= 1\n",
        "      patchesY -=1\n",
        "  return patchesData, patchesY, patchesLabels"
      ],
      "metadata": {
        "id": "pcAx6DI8epRe"
      },
      "execution_count": null,
      "outputs": []
    },
    {
      "cell_type": "code",
      "source": [
        "X_patches, y_patches, y_labels = createPatches(X, y, windowSize=windowSize)\n",
        "print (\"Shape of X with patches : \"+str(X_patches.shape))\n",
        "print (\"Shape of y with patches : \"+str(y_patches.shape))\n",
        "print (\"Shape of y : \"+str(y_labels.shape))"
      ],
      "metadata": {
        "colab": {
          "base_uri": "https://localhost:8080/"
        },
        "id": "oj4c2j95ew52",
        "outputId": "bca58dfe-7958-4528-c351-d96187cf47c0"
      },
      "execution_count": null,
      "outputs": [
        {
          "output_type": "stream",
          "name": "stdout",
          "text": [
            "Shape of X with patches : (54129, 9, 9, 10)\n",
            "Shape of y with patches : (54129, 9, 9)\n",
            "Shape of y : (54129,)\n"
          ]
        }
      ]
    },
    {
      "cell_type": "code",
      "source": [
        "#Just to check if the patch's center pixel actually corresponds to the real label value\n",
        "i = tf.random.uniform(shape=(), minval=0, maxval=y_labels.shape[0], dtype=tf.int32)\n",
        "i=10\n",
        "print (f'This is the random number generated : {i}')\n",
        "print (f'This is the label patch :\\n {y_patches[i]}')\n",
        "print (f' This is the actual label : {y_labels[i]}')"
      ],
      "metadata": {
        "colab": {
          "base_uri": "https://localhost:8080/"
        },
        "id": "-C7VVIxuezYq",
        "outputId": "93b2d36b-ad37-4492-c9bd-483817364433"
      },
      "execution_count": null,
      "outputs": [
        {
          "output_type": "stream",
          "name": "stdout",
          "text": [
            "This is the random number generated : 10\n",
            "This is the label patch :\n",
            " [[-2. -2. -2. -2. -2. -2. -2. -2. -2.]\n",
            " [-2. -2. -2. -2. -2. -2. -2. -2. -2.]\n",
            " [-2. -2. -2. -2. -2. -2. -2. -2. -2.]\n",
            " [-1. -1. -1. -1. -1. -1. -1. -1. -1.]\n",
            " [ 5.  5.  5.  5.  5.  5.  5.  5.  5.]\n",
            " [ 5.  5.  5.  5.  5.  5.  5.  5.  5.]\n",
            " [ 5.  5.  5.  5.  5.  5.  5.  5.  5.]\n",
            " [ 5.  5.  5.  5.  5.  5.  5.  5.  5.]\n",
            " [ 5.  5.  5.  5.  5.  5.  5.  5.  5.]]\n",
            " This is the actual label : 5.0\n"
          ]
        }
      ]
    },
    {
      "cell_type": "code",
      "source": [
        "#This is to denote all the classes that are present in the dataset currently.\n",
        "# -2 signifies padding\n",
        "# -1 signifies background pixels\n",
        "# Numbers 0 to 8 signify the 9 valid classes present in the dataset\n",
        "np.unique(y_patches)"
      ],
      "metadata": {
        "colab": {
          "base_uri": "https://localhost:8080/"
        },
        "id": "0PRMtnYye2F2",
        "outputId": "0327d559-fcba-45e8-8fed-dadba4c94f66"
      },
      "execution_count": null,
      "outputs": [
        {
          "output_type": "execute_result",
          "data": {
            "text/plain": [
              "array([-2., -1.,  0.,  1.,  2.,  3.,  4.,  5.,  6.,  7.,  8.,  9., 10.,\n",
              "       11., 12., 13., 14., 15.])"
            ]
          },
          "metadata": {},
          "execution_count": 170
        }
      ]
    },
    {
      "cell_type": "code",
      "source": [
        "def splitTrainTestSet(X, y_labels, testRatio=testRatio):\n",
        "  X_train, X_test, y_labels_train, y_labels_test = train_test_split(X, y_labels, test_size=testRatio, random_state=345, stratify=y_labels)\n",
        "  X_val, X_test, y_labels_val, y_labels_test = train_test_split(X_test, y_labels_test, test_size=testRatio/(testRatio + valRatio), random_state=345, stratify=y_labels_test)\n",
        "\n",
        "  return X_train, X_test, X_val, y_labels_train, y_labels_test, y_labels_val"
      ],
      "metadata": {
        "id": "afrnH2rse5IS"
      },
      "execution_count": null,
      "outputs": []
    },
    {
      "cell_type": "code",
      "source": [
        "X_train, X_test, X_val, y_labels_train, y_labels_test, y_labels_val = splitTrainTestSet(X_patches, y_labels)\n",
        "\n",
        "print (\"Shape of X_train : \"+str(X_train.shape))\n",
        "print (\"Shape of X_test : \"+str(X_test.shape))\n",
        "print (\"Shape of X_val : \"+str(X_val.shape))\n",
        "print (\"Shape of y_labels_train : \"+str(y_labels_train.shape))\n",
        "print (\"Shape of y_labels_test : \"+str(y_labels_test.shape))\n",
        "print (\"Shape of y_labels_val : \"+str(y_labels_val.shape))"
      ],
      "metadata": {
        "colab": {
          "base_uri": "https://localhost:8080/"
        },
        "id": "3IQI70p-e8Ks",
        "outputId": "4d8c9eb1-ff97-43a3-ddc9-72a731cca68a"
      },
      "execution_count": null,
      "outputs": [
        {
          "output_type": "stream",
          "name": "stdout",
          "text": [
            "Shape of X_train : (5412, 9, 9, 10)\n",
            "Shape of X_test : (43846, 9, 9, 10)\n",
            "Shape of X_val : (4871, 9, 9, 10)\n",
            "Shape of y_labels_train : (5412,)\n",
            "Shape of y_labels_test : (43846,)\n",
            "Shape of y_labels_val : (4871,)\n"
          ]
        }
      ]
    },
    {
      "cell_type": "code",
      "source": [
        "def oversampleWeakClasses(X, y):\n",
        "    uniqueLabels, labelCounts = np.unique(y, return_counts=True)\n",
        "    maxCount = np.max(labelCounts)\n",
        "    labelInverseRatios = maxCount / labelCounts  \n",
        "    # repeat for every label and concat\n",
        "    newX = X[y == uniqueLabels[0], :, :, :].repeat(round(labelInverseRatios[0]), axis=0)\n",
        "    newY = y[y == uniqueLabels[0]].repeat(round(labelInverseRatios[0]), axis=0)\n",
        "    for label, labelInverseRatio in zip(uniqueLabels[1:], labelInverseRatios[1:]):\n",
        "        cX = X[y== label,:,:,:].repeat(round(labelInverseRatio), axis=0)\n",
        "        cY = y[y == label].repeat(round(labelInverseRatio), axis=0)\n",
        "        newX = np.concatenate((newX, cX))\n",
        "        newY = np.concatenate((newY, cY))\n",
        "    np.random.seed(seed=42)\n",
        "    rand_perm = np.random.permutation(newY.shape[0])\n",
        "    newX = newX[rand_perm, :, :, :]\n",
        "    newY = newY[rand_perm]\n",
        "    return newX, newY"
      ],
      "metadata": {
        "id": "qEicHwDRe-el"
      },
      "execution_count": null,
      "outputs": []
    },
    {
      "cell_type": "code",
      "source": [
        "#Counting the number of samples in the training set that belongs to a specific class\n",
        "count = y_labels_train\n",
        "counter=collections.Counter(count)\n",
        "print (counter)"
      ],
      "metadata": {
        "colab": {
          "base_uri": "https://localhost:8080/"
        },
        "id": "0--I1kDZfCn7",
        "outputId": "e54e909c-f226-4ae4-bffb-920bd7efa3c9"
      },
      "execution_count": null,
      "outputs": [
        {
          "output_type": "stream",
          "name": "stdout",
          "text": [
            "Counter({7.0: 1127, 14.0: 727, 8.0: 620, 5.0: 396, 1.0: 372, 6.0: 358, 9.0: 328, 4.0: 268, 0.0: 201, 2.0: 197, 11.0: 193, 15.0: 181, 3.0: 139, 10.0: 107, 13.0: 107, 12.0: 91})\n"
          ]
        }
      ]
    },
    {
      "cell_type": "code",
      "source": [
        "X_train, y_labels_train = oversampleWeakClasses(X_train, y_labels_train)\n",
        "print (\"Shape of X_train : \"+str(X_train.shape))\n",
        "print (\"Shape of X_test : \"+str(X_test.shape))\n",
        "print (\"Shape of X_val : \"+str(X_val.shape))\n",
        "print (\"Shape of y_labels_train : \"+str(y_labels_train.shape))\n",
        "print (\"Shape of y_labels_test : \"+str(y_labels_test.shape))\n",
        "print (\"Shape of y_labels_val : \"+str(y_labels_val.shape))"
      ],
      "metadata": {
        "colab": {
          "base_uri": "https://localhost:8080/"
        },
        "id": "NO0He5LBfE6g",
        "outputId": "d86f9315-d000-4a57-a502-94816c38b08c"
      },
      "execution_count": null,
      "outputs": [
        {
          "output_type": "stream",
          "name": "stdout",
          "text": [
            "Shape of X_train : (18445, 9, 9, 10)\n",
            "Shape of X_test : (43846, 9, 9, 10)\n",
            "Shape of X_val : (4871, 9, 9, 10)\n",
            "Shape of y_labels_train : (18445,)\n",
            "Shape of y_labels_test : (43846,)\n",
            "Shape of y_labels_val : (4871,)\n"
          ]
        }
      ]
    },
    {
      "cell_type": "code",
      "source": [
        "#Counting the number of samples in the training set that belongs to a specific class\n",
        "count = y_labels_train\n",
        "counter=collections.Counter(count)\n",
        "print (counter)"
      ],
      "metadata": {
        "colab": {
          "base_uri": "https://localhost:8080/"
        },
        "id": "PgIwg1ZOff1C",
        "outputId": "870fdb5d-5d9a-44ba-d5de-4aee6b72be92"
      },
      "execution_count": null,
      "outputs": [
        {
          "output_type": "stream",
          "name": "stdout",
          "text": [
            "Counter({14.0: 1454, 8.0: 1240, 0.0: 1206, 5.0: 1188, 2.0: 1182, 13.0: 1177, 10.0: 1177, 11.0: 1158, 7.0: 1127, 1.0: 1116, 3.0: 1112, 12.0: 1092, 15.0: 1086, 6.0: 1074, 4.0: 1072, 9.0: 984})\n"
          ]
        }
      ]
    },
    {
      "cell_type": "code",
      "source": [
        "num_classes = len(np.unique(y_labels_train))\n",
        "input_shape = X_train[1].shape\n",
        "learning_rate = 0.001\n",
        "weight_decay = 0.0001\n",
        "batch_size = 64\n",
        "num_epochs = 100\n",
        "image_size = len(X_train[1])  # We'll resize input images to this size.In our case, the size of the input image remains the same.\n",
        "patch_size = 3  # Size of the patches to be extract from the input images\n",
        "num_patches = (image_size // patch_size) ** 2\n",
        "projection_dim = 64\n",
        "num_heads = 4\n",
        "transformer_units = [\n",
        "    projection_dim * 2,\n",
        "    projection_dim,\n",
        "]  # Size of the transformer layers\n",
        "transformer_layers = 4\n",
        "mlp_head_units = [2048, 1024, 100]  # Size of the dense layers of the final classifier"
      ],
      "metadata": {
        "id": "ey1egv-3fjqr"
      },
      "execution_count": null,
      "outputs": []
    },
    {
      "cell_type": "code",
      "source": [
        "#Implementing the data augmentation layer\n",
        "data_augmentation = tf.keras.Sequential([\n",
        "                                         #tf.keras.layers.Normalization(),\n",
        "                                         tf.keras.layers.RandomFlip(\"horizontal\"),\n",
        "                                         tf.keras.layers.RandomFlip(\"vertical\")\n",
        "], name = 'data_augmentation')\n",
        "\n",
        "#data_augmentation.layers[0].adapt(X_train)"
      ],
      "metadata": {
        "id": "yAFaFb93fnrO"
      },
      "execution_count": null,
      "outputs": []
    },
    {
      "cell_type": "code",
      "source": [
        "#Implementing the multi-layer perceptron\n",
        "def mlp(x, hidden_units, dropout_rate):\n",
        "    for units in hidden_units:\n",
        "      #ADDED KERNEL REGULARIZER HERE BELOW\n",
        "      #CHANGED ACTIVATION FUNCTION FROM GELU\n",
        "        x = tf.keras.layers.Dense(units, kernel_regularizer=L2(1e-3), activation=tf.nn.gelu)(x)\n",
        "        x = tf.keras.layers.Dropout(dropout_rate)(x)\n",
        "    return x"
      ],
      "metadata": {
        "id": "9prE1GETfqZd"
      },
      "execution_count": null,
      "outputs": []
    },
    {
      "cell_type": "code",
      "source": [
        "#Implementing patch creation as a layer as a whole by overriding the tf.keras.layers module\n",
        "class Patches(tf.keras.layers.Layer):\n",
        "    def __init__(self, patch_size):\n",
        "        super(Patches, self).__init__()\n",
        "        self.patch_size = patch_size\n",
        "\n",
        "    def call(self, images):\n",
        "        batch_size = tf.shape(images)[0]\n",
        "        patches = tf.image.extract_patches(\n",
        "            images=images,\n",
        "            sizes=[1, self.patch_size, self.patch_size, 1],\n",
        "            strides=[1, self.patch_size, self.patch_size, 1],\n",
        "            rates=[1, 1, 1, 1],\n",
        "            padding=\"VALID\",\n",
        "        )\n",
        "        patch_dims = patches.shape[-1]\n",
        "        patches = tf.reshape(patches, [batch_size, -1, patch_dims])\n",
        "        return patches"
      ],
      "metadata": {
        "id": "C9If22nwfsvk"
      },
      "execution_count": null,
      "outputs": []
    },
    {
      "cell_type": "code",
      "source": [
        "#Checking if the patch creation layer is working fine for a single image\n",
        "image = X_train[np.random.choice(range(X_train.shape[0]))]\n",
        "\n",
        "image = np.reshape(image, (1, image.shape[0], image.shape[1], image.shape[2]))\n",
        "\n",
        "patches = Patches(patch_size)(image)\n",
        "print(f\"Image size: {image_size} X {image_size}\")\n",
        "print(f\"Patch size: {patch_size} X {patch_size}\")\n",
        "print(f\"Patches per image: {patches.shape[1]}\")\n",
        "print(f\"Elements per patch: {patches.shape[-1]}\")"
      ],
      "metadata": {
        "colab": {
          "base_uri": "https://localhost:8080/"
        },
        "id": "P3km5B_RfveR",
        "outputId": "1c91feab-6dbc-48c9-cfe8-c6e5434acc3d"
      },
      "execution_count": null,
      "outputs": [
        {
          "output_type": "stream",
          "name": "stdout",
          "text": [
            "Image size: 9 X 9\n",
            "Patch size: 3 X 3\n",
            "Patches per image: 9\n",
            "Elements per patch: 90\n"
          ]
        }
      ]
    },
    {
      "cell_type": "code",
      "source": [
        "#Implementing the patch encoding layer\n",
        "#The PatchEncoder layer will linearly transform a patch by projecting it into a vector of size projection_dim. \n",
        "#In addition, it adds a learnable position embedding to the projected vector.\n",
        "class PatchEncoder(tf.keras.layers.Layer):\n",
        "    def __init__(self, num_patches, projection_dim):\n",
        "        super(PatchEncoder, self).__init__()\n",
        "        self.num_patches = num_patches\n",
        "        self.projection = tf.keras.layers.Dense(units=projection_dim)\n",
        "        self.position_embedding = tf.keras.layers.Embedding(\n",
        "            input_dim=num_patches, output_dim=projection_dim\n",
        "        )\n",
        "\n",
        "    def call(self, patch):\n",
        "        positions = tf.range(start=0, limit=self.num_patches, delta=1)\n",
        "        encoded = self.projection(patch) + self.position_embedding(positions)\n",
        "        return encoded"
      ],
      "metadata": {
        "id": "lyfYygq8fx1v"
      },
      "execution_count": null,
      "outputs": []
    },
    {
      "cell_type": "code",
      "source": [
        "#Creating the vision transformer architecture as a method\n",
        "\n",
        "def create_vit_classifier():\n",
        "    inputs = tf.keras.layers.Input(shape=input_shape)\n",
        "    # Augment data.\n",
        "    augmented = data_augmentation(inputs)\n",
        "    # Create patches.\n",
        "    patches = Patches(patch_size)(augmented)\n",
        "    # Encode patches.\n",
        "    encoded_patches = PatchEncoder(num_patches, projection_dim)(patches)\n",
        "\n",
        "    # Create multiple layers of the Transformer block.\n",
        "    for _ in range(transformer_layers):\n",
        "        # Layer normalization 1.\n",
        "        #CHANGED EPSILON VALUE BELOW WHICH WAS INITIALLY 1E-6\n",
        "        x1 = tf.keras.layers.LayerNormalization(epsilon=1e-6)(encoded_patches)\n",
        "        # Create a multi-head attention layer.\n",
        "        attention_output = tf.keras.layers.MultiHeadAttention(\n",
        "            #INCREASED DROPOUT BELOW WHICH WAS ORIGINALLY 0.1\n",
        "            num_heads=num_heads, key_dim=projection_dim, dropout=0.2\n",
        "        )(x1, x1)\n",
        "        # Skip connection 1.\n",
        "        x2 = tf.keras.layers.Add()([attention_output, encoded_patches])\n",
        "        # Layer normalization 2.\n",
        "        #CHANGED EPSILON VALUE BELOW WHICH WAS INITIALLY 1E-6\n",
        "        x3 = tf.keras.layers.LayerNormalization(epsilon=1e-6)(x2)\n",
        "        # MLP.\n",
        "        #INCREASED DROPOUT BELOW WHICH WAS ORIGINALLY 0.1\n",
        "        x3 = mlp(x3, hidden_units=transformer_units, dropout_rate=0.2)\n",
        "        # Skip connection 2.\n",
        "        encoded_patches = tf.keras.layers.Add()([x3, x2])\n",
        "        \n",
        "    # Create a [batch_size, projection_dim] tensor.\n",
        "    #CHANGED EPSILON VALUE BELOW WHICH WAS INITIALLY 1E-6\n",
        "    representation = tf.keras.layers.LayerNormalization(epsilon=1e-5)(encoded_patches)\n",
        "    representation = tf.keras.layers.Flatten()(representation)\n",
        "    representation = tf.keras.layers.Dropout(0.5)(representation)\n",
        "    # Add MLP.\n",
        "    features = mlp(representation, hidden_units=mlp_head_units, dropout_rate=0.5)\n",
        "    # Classify outputs.\n",
        "    logits = tf.keras.layers.Dense(num_classes)(features)\n",
        "    # Create the Keras model.\n",
        "    model = tf.keras.Model(inputs=inputs, outputs=logits)\n",
        "    return model"
      ],
      "metadata": {
        "id": "SVd4uPG-f8pD"
      },
      "execution_count": null,
      "outputs": []
    },
    {
      "cell_type": "code",
      "source": [
        "#Compiling the vision transformer model built\n",
        "def run_experiment(model):\n",
        "    optimizer = tfa.optimizers.AdamW(\n",
        "        learning_rate=learning_rate, weight_decay=weight_decay\n",
        "    )\n",
        "\n",
        "    model.compile(\n",
        "        optimizer=optimizer,\n",
        "        loss=tf.keras.losses.SparseCategoricalCrossentropy(from_logits=True),\n",
        "        metrics=[\n",
        "            tf.keras.metrics.SparseCategoricalAccuracy(name=\"accuracy\"),\n",
        "            tf.keras.metrics.SparseTopKCategoricalAccuracy(5, name=\"top-5-accuracy\"),\n",
        "        ],\n",
        "    )\n",
        "\n",
        "    checkpoint_filepath = \"/tmp/checkpoint\"\n",
        "    checkpoint_callback = tf.keras.callbacks.ModelCheckpoint(\n",
        "        checkpoint_filepath,\n",
        "        monitor=\"val_accuracy\",\n",
        "        save_best_only=True,\n",
        "        save_weights_only=True,\n",
        "    )\n",
        "\n",
        "    start = time.time()\n",
        "\n",
        "    history = model.fit(\n",
        "        x=X_train,\n",
        "        y=y_labels_train,\n",
        "        batch_size=batch_size,\n",
        "        epochs=num_epochs,\n",
        "        validation_data = (X_val, y_labels_val),\n",
        "        callbacks=[checkpoint_callback],\n",
        "    )\n",
        "\n",
        "    model.load_weights(checkpoint_filepath)\n",
        "    _, accuracy, top_5_accuracy = model.evaluate(X_test, y_labels_test)\n",
        "    end = time.time()\n",
        "    \n",
        "    total = (end-start)/60\n",
        "\n",
        "    print(f\"Test accuracy: {round(accuracy * 100, 2)}%\")\n",
        "    print(f\"Test top 5 accuracy: {round(top_5_accuracy * 100, 2)}%\")\n",
        "    print(f\"Total time to train and evaluate the model : {str(total)} minutes\")\n",
        "\n",
        "\n",
        "    return history"
      ],
      "metadata": {
        "id": "Mdoq6JangAMq"
      },
      "execution_count": null,
      "outputs": []
    },
    {
      "cell_type": "code",
      "source": [
        "#Instantiating the model\n",
        "vit_classifier = create_vit_classifier()\n",
        "#vit_classifier.summary()"
      ],
      "metadata": {
        "id": "6pZYQo5YgE3L"
      },
      "execution_count": null,
      "outputs": []
    },
    {
      "cell_type": "code",
      "source": [
        "#Running the model\n",
        "history = run_experiment(vit_classifier)"
      ],
      "metadata": {
        "colab": {
          "base_uri": "https://localhost:8080/"
        },
        "id": "4y8ssmcpgHi1",
        "outputId": "3adce0f1-50db-4c24-bc59-ca0c4f6cd560"
      },
      "execution_count": null,
      "outputs": [
        {
          "output_type": "stream",
          "name": "stdout",
          "text": [
            "Epoch 1/100\n",
            "289/289 [==============================] - 32s 57ms/step - loss: 3.2531 - accuracy: 0.8123 - top-5-accuracy: 0.9756 - val_loss: 2.4151 - val_accuracy: 0.7994 - val_top-5-accuracy: 1.0000\n",
            "Epoch 2/100\n",
            "289/289 [==============================] - 11s 39ms/step - loss: 1.8005 - accuracy: 0.9205 - top-5-accuracy: 0.9994 - val_loss: 1.4347 - val_accuracy: 0.8567 - val_top-5-accuracy: 1.0000\n",
            "Epoch 3/100\n",
            "289/289 [==============================] - 11s 38ms/step - loss: 1.0577 - accuracy: 0.9407 - top-5-accuracy: 0.9993 - val_loss: 1.0885 - val_accuracy: 0.7970 - val_top-5-accuracy: 1.0000\n",
            "Epoch 4/100\n",
            "289/289 [==============================] - 11s 39ms/step - loss: 0.6951 - accuracy: 0.9496 - top-5-accuracy: 0.9997 - val_loss: 0.5920 - val_accuracy: 0.9411 - val_top-5-accuracy: 1.0000\n",
            "Epoch 5/100\n",
            "289/289 [==============================] - 11s 38ms/step - loss: 0.5033 - accuracy: 0.9579 - top-5-accuracy: 0.9993 - val_loss: 0.5160 - val_accuracy: 0.9103 - val_top-5-accuracy: 1.0000\n",
            "Epoch 6/100\n",
            "289/289 [==============================] - 11s 39ms/step - loss: 0.3992 - accuracy: 0.9632 - top-5-accuracy: 0.9999 - val_loss: 0.3983 - val_accuracy: 0.9468 - val_top-5-accuracy: 1.0000\n",
            "Epoch 7/100\n",
            "289/289 [==============================] - 11s 38ms/step - loss: 0.3141 - accuracy: 0.9679 - top-5-accuracy: 0.9998 - val_loss: 0.4363 - val_accuracy: 0.9097 - val_top-5-accuracy: 1.0000\n",
            "Epoch 8/100\n",
            "289/289 [==============================] - 11s 39ms/step - loss: 0.3786 - accuracy: 0.9595 - top-5-accuracy: 0.9998 - val_loss: 0.3871 - val_accuracy: 0.9571 - val_top-5-accuracy: 1.0000\n",
            "Epoch 9/100\n",
            "289/289 [==============================] - 11s 38ms/step - loss: 0.3051 - accuracy: 0.9746 - top-5-accuracy: 0.9998 - val_loss: 0.3586 - val_accuracy: 0.9417 - val_top-5-accuracy: 0.9998\n",
            "Epoch 10/100\n",
            "289/289 [==============================] - 13s 43ms/step - loss: 0.3564 - accuracy: 0.9658 - top-5-accuracy: 0.9995 - val_loss: 0.5137 - val_accuracy: 0.9388 - val_top-5-accuracy: 1.0000\n",
            "Epoch 11/100\n",
            "289/289 [==============================] - 11s 39ms/step - loss: 0.3034 - accuracy: 0.9791 - top-5-accuracy: 0.9999 - val_loss: 0.3177 - val_accuracy: 0.9472 - val_top-5-accuracy: 1.0000\n",
            "Epoch 12/100\n",
            "289/289 [==============================] - 12s 41ms/step - loss: 0.1935 - accuracy: 0.9826 - top-5-accuracy: 1.0000 - val_loss: 0.1855 - val_accuracy: 0.9692 - val_top-5-accuracy: 1.0000\n",
            "Epoch 13/100\n",
            "289/289 [==============================] - 11s 39ms/step - loss: 0.2155 - accuracy: 0.9789 - top-5-accuracy: 0.9999 - val_loss: 0.3201 - val_accuracy: 0.9567 - val_top-5-accuracy: 1.0000\n",
            "Epoch 14/100\n",
            "289/289 [==============================] - 11s 39ms/step - loss: 0.3632 - accuracy: 0.9734 - top-5-accuracy: 0.9998 - val_loss: 0.3541 - val_accuracy: 0.9626 - val_top-5-accuracy: 1.0000\n",
            "Epoch 15/100\n",
            "289/289 [==============================] - 11s 40ms/step - loss: 0.3044 - accuracy: 0.9752 - top-5-accuracy: 0.9998 - val_loss: 0.2743 - val_accuracy: 0.9713 - val_top-5-accuracy: 1.0000\n",
            "Epoch 16/100\n",
            "289/289 [==============================] - 11s 38ms/step - loss: 0.2099 - accuracy: 0.9843 - top-5-accuracy: 0.9999 - val_loss: 0.2022 - val_accuracy: 0.9700 - val_top-5-accuracy: 1.0000\n",
            "Epoch 17/100\n",
            "289/289 [==============================] - 11s 38ms/step - loss: 0.2491 - accuracy: 0.9786 - top-5-accuracy: 0.9998 - val_loss: 0.4933 - val_accuracy: 0.9628 - val_top-5-accuracy: 1.0000\n",
            "Epoch 18/100\n",
            "289/289 [==============================] - 11s 38ms/step - loss: 0.7738 - accuracy: 0.9637 - top-5-accuracy: 0.9991 - val_loss: 0.5011 - val_accuracy: 0.9505 - val_top-5-accuracy: 1.0000\n",
            "Epoch 19/100\n",
            "289/289 [==============================] - 11s 39ms/step - loss: 0.2836 - accuracy: 0.9860 - top-5-accuracy: 1.0000 - val_loss: 0.2330 - val_accuracy: 0.9727 - val_top-5-accuracy: 1.0000\n",
            "Epoch 20/100\n",
            "289/289 [==============================] - 11s 38ms/step - loss: 0.1838 - accuracy: 0.9880 - top-5-accuracy: 1.0000 - val_loss: 0.2220 - val_accuracy: 0.9692 - val_top-5-accuracy: 1.0000\n",
            "Epoch 21/100\n",
            "289/289 [==============================] - 11s 39ms/step - loss: 0.1879 - accuracy: 0.9874 - top-5-accuracy: 0.9999 - val_loss: 0.2020 - val_accuracy: 0.9733 - val_top-5-accuracy: 1.0000\n",
            "Epoch 22/100\n",
            "289/289 [==============================] - 11s 39ms/step - loss: 0.1823 - accuracy: 0.9861 - top-5-accuracy: 0.9999 - val_loss: 0.2218 - val_accuracy: 0.9766 - val_top-5-accuracy: 1.0000\n",
            "Epoch 23/100\n",
            "289/289 [==============================] - 11s 38ms/step - loss: 0.7360 - accuracy: 0.9635 - top-5-accuracy: 0.9992 - val_loss: 0.5423 - val_accuracy: 0.9766 - val_top-5-accuracy: 1.0000\n",
            "Epoch 24/100\n",
            "289/289 [==============================] - 11s 38ms/step - loss: 0.3080 - accuracy: 0.9894 - top-5-accuracy: 1.0000 - val_loss: 0.2325 - val_accuracy: 0.9764 - val_top-5-accuracy: 1.0000\n",
            "Epoch 25/100\n",
            "289/289 [==============================] - 11s 38ms/step - loss: 0.1809 - accuracy: 0.9890 - top-5-accuracy: 1.0000 - val_loss: 0.1948 - val_accuracy: 0.9700 - val_top-5-accuracy: 1.0000\n",
            "Epoch 26/100\n",
            "289/289 [==============================] - 11s 38ms/step - loss: 0.1552 - accuracy: 0.9883 - top-5-accuracy: 1.0000 - val_loss: 0.2215 - val_accuracy: 0.9511 - val_top-5-accuracy: 1.0000\n",
            "Epoch 27/100\n",
            "289/289 [==============================] - 11s 38ms/step - loss: 0.1972 - accuracy: 0.9852 - top-5-accuracy: 0.9999 - val_loss: 0.2521 - val_accuracy: 0.9758 - val_top-5-accuracy: 1.0000\n",
            "Epoch 28/100\n",
            "289/289 [==============================] - 11s 38ms/step - loss: 0.5268 - accuracy: 0.9742 - top-5-accuracy: 0.9999 - val_loss: 0.4862 - val_accuracy: 0.9729 - val_top-5-accuracy: 1.0000\n",
            "Epoch 29/100\n",
            "289/289 [==============================] - 11s 38ms/step - loss: 0.2628 - accuracy: 0.9886 - top-5-accuracy: 1.0000 - val_loss: 0.2260 - val_accuracy: 0.9688 - val_top-5-accuracy: 1.0000\n",
            "Epoch 30/100\n",
            "289/289 [==============================] - 11s 39ms/step - loss: 0.1838 - accuracy: 0.9871 - top-5-accuracy: 1.0000 - val_loss: 0.1987 - val_accuracy: 0.9770 - val_top-5-accuracy: 1.0000\n",
            "Epoch 31/100\n",
            "289/289 [==============================] - 11s 39ms/step - loss: 0.3995 - accuracy: 0.9742 - top-5-accuracy: 0.9995 - val_loss: 0.5553 - val_accuracy: 0.9694 - val_top-5-accuracy: 1.0000\n",
            "Epoch 32/100\n",
            "289/289 [==============================] - 11s 39ms/step - loss: 0.2885 - accuracy: 0.9894 - top-5-accuracy: 1.0000 - val_loss: 0.2197 - val_accuracy: 0.9754 - val_top-5-accuracy: 1.0000\n",
            "Epoch 33/100\n",
            "289/289 [==============================] - 11s 39ms/step - loss: 0.1445 - accuracy: 0.9917 - top-5-accuracy: 1.0000 - val_loss: 0.1602 - val_accuracy: 0.9813 - val_top-5-accuracy: 1.0000\n",
            "Epoch 34/100\n",
            "289/289 [==============================] - 11s 39ms/step - loss: 0.1561 - accuracy: 0.9891 - top-5-accuracy: 1.0000 - val_loss: 0.2026 - val_accuracy: 0.9760 - val_top-5-accuracy: 1.0000\n",
            "Epoch 35/100\n",
            "289/289 [==============================] - 11s 39ms/step - loss: 0.1730 - accuracy: 0.9880 - top-5-accuracy: 1.0000 - val_loss: 0.3096 - val_accuracy: 0.9694 - val_top-5-accuracy: 1.0000\n",
            "Epoch 36/100\n",
            "289/289 [==============================] - 11s 39ms/step - loss: 0.2480 - accuracy: 0.9870 - top-5-accuracy: 0.9999 - val_loss: 0.2400 - val_accuracy: 0.9807 - val_top-5-accuracy: 1.0000\n",
            "Epoch 37/100\n",
            "289/289 [==============================] - 11s 38ms/step - loss: 0.4155 - accuracy: 0.9769 - top-5-accuracy: 0.9999 - val_loss: 0.8180 - val_accuracy: 0.9698 - val_top-5-accuracy: 1.0000\n",
            "Epoch 38/100\n",
            "289/289 [==============================] - 11s 39ms/step - loss: 0.4668 - accuracy: 0.9864 - top-5-accuracy: 0.9999 - val_loss: 0.2654 - val_accuracy: 0.9774 - val_top-5-accuracy: 1.0000\n",
            "Epoch 39/100\n",
            "289/289 [==============================] - 11s 39ms/step - loss: 0.1612 - accuracy: 0.9934 - top-5-accuracy: 1.0000 - val_loss: 0.1611 - val_accuracy: 0.9807 - val_top-5-accuracy: 1.0000\n",
            "Epoch 40/100\n",
            "289/289 [==============================] - 11s 38ms/step - loss: 0.1157 - accuracy: 0.9936 - top-5-accuracy: 1.0000 - val_loss: 0.1634 - val_accuracy: 0.9729 - val_top-5-accuracy: 1.0000\n",
            "Epoch 41/100\n",
            "289/289 [==============================] - 11s 38ms/step - loss: 0.2120 - accuracy: 0.9843 - top-5-accuracy: 0.9999 - val_loss: 0.4357 - val_accuracy: 0.9803 - val_top-5-accuracy: 1.0000\n",
            "Epoch 42/100\n",
            "289/289 [==============================] - 11s 39ms/step - loss: 0.6507 - accuracy: 0.9747 - top-5-accuracy: 0.9997 - val_loss: 0.3461 - val_accuracy: 0.9832 - val_top-5-accuracy: 1.0000\n",
            "Epoch 43/100\n",
            "289/289 [==============================] - 11s 38ms/step - loss: 0.2209 - accuracy: 0.9922 - top-5-accuracy: 1.0000 - val_loss: 0.1790 - val_accuracy: 0.9832 - val_top-5-accuracy: 1.0000\n",
            "Epoch 44/100\n",
            "289/289 [==============================] - 11s 38ms/step - loss: 0.1288 - accuracy: 0.9941 - top-5-accuracy: 1.0000 - val_loss: 0.1420 - val_accuracy: 0.9803 - val_top-5-accuracy: 1.0000\n",
            "Epoch 45/100\n",
            "289/289 [==============================] - 11s 38ms/step - loss: 0.1107 - accuracy: 0.9935 - top-5-accuracy: 1.0000 - val_loss: 0.1742 - val_accuracy: 0.9692 - val_top-5-accuracy: 1.0000\n",
            "Epoch 46/100\n",
            "289/289 [==============================] - 11s 38ms/step - loss: 0.1848 - accuracy: 0.9856 - top-5-accuracy: 0.9999 - val_loss: 0.6564 - val_accuracy: 0.9614 - val_top-5-accuracy: 0.9996\n",
            "Epoch 47/100\n",
            "289/289 [==============================] - 11s 38ms/step - loss: 0.8049 - accuracy: 0.9720 - top-5-accuracy: 0.9995 - val_loss: 0.4382 - val_accuracy: 0.9684 - val_top-5-accuracy: 1.0000\n",
            "Epoch 48/100\n",
            "289/289 [==============================] - 11s 39ms/step - loss: 0.2346 - accuracy: 0.9920 - top-5-accuracy: 1.0000 - val_loss: 0.1834 - val_accuracy: 0.9840 - val_top-5-accuracy: 1.0000\n",
            "Epoch 49/100\n",
            "289/289 [==============================] - 11s 38ms/step - loss: 0.1314 - accuracy: 0.9944 - top-5-accuracy: 1.0000 - val_loss: 0.1519 - val_accuracy: 0.9786 - val_top-5-accuracy: 1.0000\n",
            "Epoch 50/100\n",
            "289/289 [==============================] - 11s 38ms/step - loss: 0.1178 - accuracy: 0.9927 - top-5-accuracy: 1.0000 - val_loss: 0.2194 - val_accuracy: 0.9491 - val_top-5-accuracy: 1.0000\n",
            "Epoch 51/100\n",
            "289/289 [==============================] - 11s 38ms/step - loss: 0.1259 - accuracy: 0.9928 - top-5-accuracy: 1.0000 - val_loss: 0.1941 - val_accuracy: 0.9764 - val_top-5-accuracy: 1.0000\n",
            "Epoch 52/100\n",
            "289/289 [==============================] - 11s 38ms/step - loss: 0.3979 - accuracy: 0.9767 - top-5-accuracy: 0.9999 - val_loss: 0.6086 - val_accuracy: 0.9721 - val_top-5-accuracy: 1.0000\n",
            "Epoch 53/100\n",
            "289/289 [==============================] - 11s 38ms/step - loss: 0.2959 - accuracy: 0.9918 - top-5-accuracy: 0.9997 - val_loss: 0.2195 - val_accuracy: 0.9750 - val_top-5-accuracy: 1.0000\n",
            "Epoch 54/100\n",
            "289/289 [==============================] - 11s 38ms/step - loss: 0.1255 - accuracy: 0.9945 - top-5-accuracy: 1.0000 - val_loss: 0.1294 - val_accuracy: 0.9840 - val_top-5-accuracy: 1.0000\n",
            "Epoch 55/100\n",
            "289/289 [==============================] - 11s 38ms/step - loss: 0.1132 - accuracy: 0.9935 - top-5-accuracy: 1.0000 - val_loss: 0.1839 - val_accuracy: 0.9725 - val_top-5-accuracy: 1.0000\n",
            "Epoch 56/100\n",
            "289/289 [==============================] - 11s 38ms/step - loss: 0.2110 - accuracy: 0.9854 - top-5-accuracy: 0.9998 - val_loss: 0.4878 - val_accuracy: 0.9700 - val_top-5-accuracy: 1.0000\n",
            "Epoch 57/100\n",
            "289/289 [==============================] - 11s 39ms/step - loss: 0.5049 - accuracy: 0.9795 - top-5-accuracy: 0.9997 - val_loss: 0.3487 - val_accuracy: 0.9850 - val_top-5-accuracy: 1.0000\n",
            "Epoch 58/100\n",
            "289/289 [==============================] - 11s 38ms/step - loss: 0.2214 - accuracy: 0.9913 - top-5-accuracy: 0.9999 - val_loss: 0.1874 - val_accuracy: 0.9743 - val_top-5-accuracy: 1.0000\n",
            "Epoch 59/100\n",
            "289/289 [==============================] - 11s 38ms/step - loss: 0.1228 - accuracy: 0.9934 - top-5-accuracy: 1.0000 - val_loss: 0.1474 - val_accuracy: 0.9789 - val_top-5-accuracy: 1.0000\n",
            "Epoch 60/100\n",
            "289/289 [==============================] - 11s 38ms/step - loss: 0.1067 - accuracy: 0.9949 - top-5-accuracy: 1.0000 - val_loss: 0.1545 - val_accuracy: 0.9821 - val_top-5-accuracy: 1.0000\n",
            "Epoch 61/100\n",
            "289/289 [==============================] - 11s 39ms/step - loss: 0.2731 - accuracy: 0.9811 - top-5-accuracy: 0.9998 - val_loss: 1.1009 - val_accuracy: 0.9680 - val_top-5-accuracy: 0.9971\n",
            "Epoch 62/100\n",
            "289/289 [==============================] - 11s 38ms/step - loss: 0.7762 - accuracy: 0.9760 - top-5-accuracy: 0.9998 - val_loss: 0.3234 - val_accuracy: 0.9819 - val_top-5-accuracy: 1.0000\n",
            "Epoch 63/100\n",
            "289/289 [==============================] - 11s 39ms/step - loss: 0.1977 - accuracy: 0.9938 - top-5-accuracy: 1.0000 - val_loss: 0.1805 - val_accuracy: 0.9803 - val_top-5-accuracy: 1.0000\n",
            "Epoch 64/100\n",
            "289/289 [==============================] - 11s 38ms/step - loss: 0.1259 - accuracy: 0.9939 - top-5-accuracy: 1.0000 - val_loss: 0.1377 - val_accuracy: 0.9844 - val_top-5-accuracy: 1.0000\n",
            "Epoch 65/100\n",
            "289/289 [==============================] - 11s 38ms/step - loss: 0.1073 - accuracy: 0.9941 - top-5-accuracy: 1.0000 - val_loss: 0.1768 - val_accuracy: 0.9750 - val_top-5-accuracy: 1.0000\n",
            "Epoch 66/100\n",
            "289/289 [==============================] - 11s 38ms/step - loss: 0.1649 - accuracy: 0.9895 - top-5-accuracy: 0.9999 - val_loss: 0.3532 - val_accuracy: 0.9819 - val_top-5-accuracy: 1.0000\n",
            "Epoch 67/100\n",
            "289/289 [==============================] - 11s 38ms/step - loss: 0.4724 - accuracy: 0.9801 - top-5-accuracy: 0.9997 - val_loss: 0.3000 - val_accuracy: 0.9825 - val_top-5-accuracy: 1.0000\n",
            "Epoch 68/100\n",
            "289/289 [==============================] - 11s 38ms/step - loss: 0.1840 - accuracy: 0.9927 - top-5-accuracy: 1.0000 - val_loss: 0.2056 - val_accuracy: 0.9717 - val_top-5-accuracy: 1.0000\n",
            "Epoch 69/100\n",
            "289/289 [==============================] - 11s 38ms/step - loss: 0.1076 - accuracy: 0.9954 - top-5-accuracy: 1.0000 - val_loss: 0.1258 - val_accuracy: 0.9842 - val_top-5-accuracy: 1.0000\n",
            "Epoch 70/100\n",
            "289/289 [==============================] - 11s 38ms/step - loss: 0.1554 - accuracy: 0.9894 - top-5-accuracy: 1.0000 - val_loss: 0.2963 - val_accuracy: 0.9676 - val_top-5-accuracy: 1.0000\n",
            "Epoch 71/100\n",
            "289/289 [==============================] - 11s 38ms/step - loss: 0.3845 - accuracy: 0.9824 - top-5-accuracy: 0.9998 - val_loss: 0.4965 - val_accuracy: 0.9489 - val_top-5-accuracy: 1.0000\n",
            "Epoch 72/100\n",
            "289/289 [==============================] - 11s 38ms/step - loss: 0.2469 - accuracy: 0.9904 - top-5-accuracy: 0.9999 - val_loss: 0.1725 - val_accuracy: 0.9780 - val_top-5-accuracy: 1.0000\n",
            "Epoch 73/100\n",
            "289/289 [==============================] - 11s 38ms/step - loss: 0.1141 - accuracy: 0.9950 - top-5-accuracy: 1.0000 - val_loss: 0.1438 - val_accuracy: 0.9784 - val_top-5-accuracy: 1.0000\n",
            "Epoch 74/100\n",
            "289/289 [==============================] - 11s 38ms/step - loss: 0.1135 - accuracy: 0.9920 - top-5-accuracy: 0.9999 - val_loss: 0.2302 - val_accuracy: 0.9733 - val_top-5-accuracy: 0.9998\n",
            "Epoch 75/100\n",
            "289/289 [==============================] - 11s 39ms/step - loss: 0.5582 - accuracy: 0.9744 - top-5-accuracy: 0.9999 - val_loss: 0.5038 - val_accuracy: 0.9838 - val_top-5-accuracy: 1.0000\n",
            "Epoch 76/100\n",
            "289/289 [==============================] - 11s 39ms/step - loss: 0.2501 - accuracy: 0.9949 - top-5-accuracy: 1.0000 - val_loss: 0.1710 - val_accuracy: 0.9848 - val_top-5-accuracy: 1.0000\n",
            "Epoch 77/100\n",
            "289/289 [==============================] - 11s 39ms/step - loss: 0.1253 - accuracy: 0.9947 - top-5-accuracy: 1.0000 - val_loss: 0.1365 - val_accuracy: 0.9825 - val_top-5-accuracy: 1.0000\n",
            "Epoch 78/100\n",
            "289/289 [==============================] - 11s 39ms/step - loss: 0.0961 - accuracy: 0.9947 - top-5-accuracy: 1.0000 - val_loss: 0.1203 - val_accuracy: 0.9842 - val_top-5-accuracy: 1.0000\n",
            "Epoch 79/100\n",
            "289/289 [==============================] - 11s 39ms/step - loss: 0.1510 - accuracy: 0.9886 - top-5-accuracy: 0.9999 - val_loss: 0.3685 - val_accuracy: 0.9727 - val_top-5-accuracy: 0.9998\n",
            "Epoch 80/100\n",
            "289/289 [==============================] - 11s 39ms/step - loss: 0.4968 - accuracy: 0.9797 - top-5-accuracy: 0.9999 - val_loss: 0.2664 - val_accuracy: 0.9836 - val_top-5-accuracy: 1.0000\n",
            "Epoch 81/100\n",
            "289/289 [==============================] - 11s 39ms/step - loss: 0.1561 - accuracy: 0.9948 - top-5-accuracy: 1.0000 - val_loss: 0.1660 - val_accuracy: 0.9756 - val_top-5-accuracy: 1.0000\n",
            "Epoch 82/100\n",
            "289/289 [==============================] - 11s 39ms/step - loss: 0.1020 - accuracy: 0.9946 - top-5-accuracy: 1.0000 - val_loss: 0.1526 - val_accuracy: 0.9737 - val_top-5-accuracy: 1.0000\n",
            "Epoch 83/100\n",
            "289/289 [==============================] - 11s 39ms/step - loss: 0.1006 - accuracy: 0.9936 - top-5-accuracy: 0.9999 - val_loss: 0.1358 - val_accuracy: 0.9821 - val_top-5-accuracy: 1.0000\n",
            "Epoch 84/100\n",
            "289/289 [==============================] - 11s 39ms/step - loss: 0.2157 - accuracy: 0.9843 - top-5-accuracy: 0.9998 - val_loss: 0.7997 - val_accuracy: 0.9382 - val_top-5-accuracy: 0.9992\n",
            "Epoch 85/100\n",
            "289/289 [==============================] - 11s 39ms/step - loss: 0.5180 - accuracy: 0.9824 - top-5-accuracy: 0.9999 - val_loss: 0.3007 - val_accuracy: 0.9663 - val_top-5-accuracy: 1.0000\n",
            "Epoch 86/100\n",
            "289/289 [==============================] - 11s 39ms/step - loss: 0.1573 - accuracy: 0.9944 - top-5-accuracy: 1.0000 - val_loss: 0.1586 - val_accuracy: 0.9791 - val_top-5-accuracy: 1.0000\n",
            "Epoch 87/100\n",
            "289/289 [==============================] - 11s 38ms/step - loss: 0.1042 - accuracy: 0.9946 - top-5-accuracy: 1.0000 - val_loss: 0.1370 - val_accuracy: 0.9795 - val_top-5-accuracy: 1.0000\n",
            "Epoch 88/100\n",
            "289/289 [==============================] - 11s 39ms/step - loss: 0.0975 - accuracy: 0.9945 - top-5-accuracy: 0.9999 - val_loss: 0.1192 - val_accuracy: 0.9813 - val_top-5-accuracy: 1.0000\n",
            "Epoch 89/100\n",
            "289/289 [==============================] - 11s 39ms/step - loss: 0.1550 - accuracy: 0.9887 - top-5-accuracy: 0.9999 - val_loss: 0.4414 - val_accuracy: 0.9791 - val_top-5-accuracy: 1.0000\n",
            "Epoch 90/100\n",
            "289/289 [==============================] - 11s 39ms/step - loss: 0.6053 - accuracy: 0.9786 - top-5-accuracy: 0.9998 - val_loss: 0.2761 - val_accuracy: 0.9805 - val_top-5-accuracy: 1.0000\n",
            "Epoch 91/100\n",
            "289/289 [==============================] - 11s 39ms/step - loss: 0.1633 - accuracy: 0.9952 - top-5-accuracy: 1.0000 - val_loss: 0.1523 - val_accuracy: 0.9807 - val_top-5-accuracy: 1.0000\n",
            "Epoch 92/100\n",
            "289/289 [==============================] - 11s 40ms/step - loss: 0.1254 - accuracy: 0.9921 - top-5-accuracy: 1.0000 - val_loss: 0.1815 - val_accuracy: 0.9819 - val_top-5-accuracy: 1.0000\n",
            "Epoch 93/100\n",
            "289/289 [==============================] - 11s 39ms/step - loss: 0.1693 - accuracy: 0.9914 - top-5-accuracy: 0.9999 - val_loss: 0.1963 - val_accuracy: 0.9737 - val_top-5-accuracy: 0.9998\n",
            "Epoch 94/100\n",
            "289/289 [==============================] - 11s 39ms/step - loss: 0.1438 - accuracy: 0.9907 - top-5-accuracy: 0.9997 - val_loss: 0.1763 - val_accuracy: 0.9778 - val_top-5-accuracy: 1.0000\n",
            "Epoch 95/100\n",
            "289/289 [==============================] - 11s 39ms/step - loss: 0.1471 - accuracy: 0.9910 - top-5-accuracy: 1.0000 - val_loss: 0.1499 - val_accuracy: 0.9793 - val_top-5-accuracy: 1.0000\n",
            "Epoch 96/100\n",
            "289/289 [==============================] - 11s 39ms/step - loss: 0.1017 - accuracy: 0.9938 - top-5-accuracy: 0.9999 - val_loss: 0.1541 - val_accuracy: 0.9815 - val_top-5-accuracy: 1.0000\n",
            "Epoch 97/100\n",
            "289/289 [==============================] - 11s 39ms/step - loss: 0.6009 - accuracy: 0.9734 - top-5-accuracy: 0.9996 - val_loss: 0.5112 - val_accuracy: 0.9803 - val_top-5-accuracy: 1.0000\n",
            "Epoch 98/100\n",
            "289/289 [==============================] - 11s 39ms/step - loss: 0.2633 - accuracy: 0.9924 - top-5-accuracy: 1.0000 - val_loss: 0.1931 - val_accuracy: 0.9811 - val_top-5-accuracy: 1.0000\n",
            "Epoch 99/100\n",
            "289/289 [==============================] - 11s 39ms/step - loss: 0.1257 - accuracy: 0.9954 - top-5-accuracy: 1.0000 - val_loss: 0.1329 - val_accuracy: 0.9819 - val_top-5-accuracy: 1.0000\n",
            "Epoch 100/100\n",
            "289/289 [==============================] - 11s 38ms/step - loss: 0.0936 - accuracy: 0.9953 - top-5-accuracy: 1.0000 - val_loss: 0.1345 - val_accuracy: 0.9791 - val_top-5-accuracy: 1.0000\n",
            "1371/1371 [==============================] - 20s 14ms/step - loss: 0.3558 - accuracy: 0.9820 - top-5-accuracy: 1.0000\n",
            "Test accuracy: 98.2%\n",
            "Test top 5 accuracy: 100.0%\n",
            "Total time to train and evaluate the model : 19.96581191221873 minutes\n"
          ]
        }
      ]
    },
    {
      "cell_type": "code",
      "source": [
        "# summarize history for accuracy\n",
        "plt.plot(history.history['accuracy'])\n",
        "plt.plot(history.history['val_accuracy'])\n",
        "plt.title('model accuracy')\n",
        "plt.ylabel('accuracy')\n",
        "plt.xlabel('epoch')\n",
        "plt.legend(['training data', 'validation data'], loc='lower right')\n",
        "plt.show()\n",
        "# summarize history for loss\n",
        "plt.plot(history.history['loss'])\n",
        "plt.plot(history.history['val_loss'])\n",
        "plt.title('model loss')\n",
        "plt.ylabel('loss')\n",
        "plt.xlabel('epoch')\n",
        "plt.legend(['training data', 'validation data'], loc='upper right')\n",
        "plt.show()"
      ],
      "metadata": {
        "colab": {
          "base_uri": "https://localhost:8080/",
          "height": 573
        },
        "id": "gbHeVENugVqU",
        "outputId": "7fd6a8a2-0f49-45e0-e8de-c4b011664b72"
      },
      "execution_count": null,
      "outputs": [
        {
          "output_type": "display_data",
          "data": {
            "text/plain": [
              "<Figure size 432x288 with 1 Axes>"
            ],
            "image/png": "[encoded data removed]"
          },
          "metadata": {
            "needs_background": "light"
          }
        },
        {
          "output_type": "display_data",
          "data": {
            "text/plain": [
              "<Figure size 432x288 with 1 Axes>"
            ],
            "image/png": "[encoded data removed]"
          },
          "metadata": {
            "needs_background": "light"
          }
        }
      ]
    },
    {
      "cell_type": "code",
      "source": [
        "def plot_accuracy_map (X, y):\n",
        "    Xshape = X    \n",
        "    X, y_patches, y = createPatches(X, y, windowSize=windowSize, removeZeroLabels=False)\n",
        "    prediction = vit_classifier.predict(X)\n",
        "    prediction = np.argmax(prediction, axis = 1)\n",
        "    \n",
        "    for i in range(0, len(y)):\n",
        "        if (y[i] == 0):\n",
        "            y[i] = 0\n",
        "        elif (y[i] == 16):\n",
        "            y[i] = 16\n",
        "        else :\n",
        "            y[i] = prediction[i]+1\n",
        "            \n",
        "    y = y.reshape((Xshape.shape[0], Xshape.shape[1]))\n",
        "    predict_image = spectral.imshow(classes = y.astype(int),figsize =(5,5))"
      ],
      "metadata": {
        "id": "SjUJK46LgaFY"
      },
      "execution_count": null,
      "outputs": []
    },
    {
      "cell_type": "code",
      "source": [
        "#Plotting the accuracy map for the proposed approach\n",
        "plot_accuracy_map(X_accuracy_plot, y_accuracy_plot)"
      ],
      "metadata": {
        "colab": {
          "base_uri": "https://localhost:8080/",
          "height": 323
        },
        "id": "TeWKtBkTXXyM",
        "outputId": "f4137ab1-41bd-4036-ccbe-47732058f842"
      },
      "execution_count": null,
      "outputs": [
        {
          "output_type": "display_data",
          "data": {
            "text/plain": [
              "<Figure size 360x360 with 1 Axes>"
            ],
            "image/png": "[encoded data removed]"
          },
          "metadata": {
            "needs_background": "light"
          }
        }
      ]
    },
    {
      "cell_type": "code",
      "source": [
        "#Plotting the groundtruth data\n",
        "predict_image = spectral.imshow(classes = y_accuracy_plot.astype(int),figsize =(5,5))"
      ],
      "metadata": {
        "colab": {
          "base_uri": "https://localhost:8080/",
          "height": 323
        },
        "id": "55FpOmtDXXb-",
        "outputId": "24044d5b-54ae-4cde-f827-2dc4c21e1aa8"
      },
      "execution_count": null,
      "outputs": [
        {
          "output_type": "display_data",
          "data": {
            "text/plain": [
              "<Figure size 360x360 with 1 Axes>"
            ],
            "image/png": "[encoded data removed]"
          },
          "metadata": {
            "needs_background": "light"
          }
        }
      ]
    }
  ]
}